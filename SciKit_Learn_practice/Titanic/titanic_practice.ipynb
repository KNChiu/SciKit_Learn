{
 "cells": [
  {
   "cell_type": "code",
   "execution_count": 1,
   "metadata": {},
   "outputs": [],
   "source": [
    "import pandas as pd\n",
    "import numpy as np"
   ]
  },
  {
   "cell_type": "code",
   "execution_count": 2,
   "metadata": {},
   "outputs": [],
   "source": [
    "train=pd.read_csv('train.csv')\n",
    "data_test=pd.read_csv('data_test.csv')\n",
    "label_test=pd.read_csv('label_test.csv')"
   ]
  },
  {
   "cell_type": "code",
   "execution_count": 3,
   "metadata": {},
   "outputs": [],
   "source": [
    "TRAIN_INDEX = ['Pclass', 'Sex', 'Age', 'SibSp','Parch', 'Fare','Embarked','Survived']\n",
    "TESTS_INDEX = ['Pclass', 'Sex', 'Age', 'SibSp','Parch', 'Fare','Embarked']"
   ]
  },
  {
   "cell_type": "code",
   "execution_count": 4,
   "metadata": {},
   "outputs": [],
   "source": [
    "train = train[TRAIN_INDEX]\n",
    "data_test = data_test[TESTS_INDEX]"
   ]
  },
  {
   "cell_type": "markdown",
   "metadata": {},
   "source": [
    "### 填補缺失值"
   ]
  },
  {
   "cell_type": "code",
   "execution_count": 5,
   "metadata": {},
   "outputs": [
    {
     "data": {
      "text/plain": [
       "Pclass      0\n",
       "Sex         0\n",
       "Age         0\n",
       "SibSp       0\n",
       "Parch       0\n",
       "Fare        0\n",
       "Embarked    0\n",
       "Survived    0\n",
       "dtype: int64"
      ]
     },
     "execution_count": 5,
     "metadata": {},
     "output_type": "execute_result"
    }
   ],
   "source": [
    "train['Age'] = train['Age'].fillna(train['Age'].mean())\n",
    "train['Embarked'].fillna(train['Embarked'].mode()[0], inplace=True)\n",
    "train.isnull().sum()"
   ]
  },
  {
   "cell_type": "code",
   "execution_count": 6,
   "metadata": {},
   "outputs": [
    {
     "data": {
      "text/plain": [
       "Pclass      0\n",
       "Sex         0\n",
       "Age         0\n",
       "SibSp       0\n",
       "Parch       0\n",
       "Fare        0\n",
       "Embarked    0\n",
       "dtype: int64"
      ]
     },
     "execution_count": 6,
     "metadata": {},
     "output_type": "execute_result"
    }
   ],
   "source": [
    "data_test['Fare'] = data_test['Fare'].fillna(data_test['Fare'].mean())\n",
    "data_test['Age'] = data_test['Age'].fillna(data_test['Age'].mean())\n",
    "data_test.isnull().sum()"
   ]
  },
  {
   "cell_type": "markdown",
   "metadata": {},
   "source": [
    "### 數值轉換"
   ]
  },
  {
   "cell_type": "code",
   "execution_count": 7,
   "metadata": {},
   "outputs": [],
   "source": [
    "train['Sex']=train['Sex'].replace('female', 0)\n",
    "train['Sex']=train['Sex'].replace('male', 1)\n",
    "data_test['Sex']=data_test['Sex'].replace('female', 0)\n",
    "data_test['Sex']=data_test['Sex'].replace('male', 1)"
   ]
  },
  {
   "cell_type": "code",
   "execution_count": 8,
   "metadata": {},
   "outputs": [],
   "source": [
    "train['Embarked']=train['Embarked'].replace('C', 0)\n",
    "train['Embarked']=train['Embarked'].replace('Q', 1)\n",
    "train['Embarked']=train['Embarked'].replace('S', 2)\n",
    "\n",
    "data_test['Embarked']=data_test['Embarked'].replace('C', 0)\n",
    "data_test['Embarked']=data_test['Embarked'].replace('Q', 1)\n",
    "data_test['Embarked']=data_test['Embarked'].replace('S', 2)"
   ]
  },
  {
   "cell_type": "markdown",
   "metadata": {},
   "source": [
    "### 特徵比較(資料關聯性):"
   ]
  },
  {
   "cell_type": "code",
   "execution_count": 9,
   "metadata": {},
   "outputs": [
    {
     "name": "stdout",
     "output_type": "stream",
     "text": [
      "   Pclass  Survived\n",
      "0       1  0.629630\n",
      "1       2  0.472826\n",
      "2       3  0.242363\n"
     ]
    }
   ],
   "source": [
    "# 艙等\n",
    "print(train[[\"Pclass\", \"Survived\"]].groupby([\"Pclass\"], as_index = False).mean())"
   ]
  },
  {
   "cell_type": "code",
   "execution_count": 10,
   "metadata": {},
   "outputs": [
    {
     "name": "stdout",
     "output_type": "stream",
     "text": [
      "   Sex  Survived\n",
      "0    0  0.742038\n",
      "1    1  0.188908\n"
     ]
    }
   ],
   "source": [
    "# 性別\n",
    "print(train[[\"Sex\", \"Survived\"]].groupby([\"Sex\"], as_index = False).mean())"
   ]
  },
  {
   "cell_type": "code",
   "execution_count": 11,
   "metadata": {},
   "outputs": [
    {
     "name": "stdout",
     "output_type": "stream",
     "text": [
      "   Embarked  Survived\n",
      "0         0  0.553571\n",
      "1         1  0.389610\n",
      "2         2  0.339009\n"
     ]
    }
   ],
   "source": [
    "# 出發地\n",
    "print(train[[\"Embarked\", \"Survived\"]].groupby([\"Embarked\"], as_index = False).mean())"
   ]
  },
  {
   "cell_type": "markdown",
   "metadata": {},
   "source": [
    "### 數據生成"
   ]
  },
  {
   "cell_type": "code",
   "execution_count": 12,
   "metadata": {},
   "outputs": [],
   "source": [
    "data_train=train[TESTS_INDEX].values\n",
    "label_train=train[['Survived']].values \n",
    "\n",
    "data_test=data_test[TESTS_INDEX].values\n",
    "label_test=label_test[['Survived']].values"
   ]
  },
  {
   "cell_type": "code",
   "execution_count": 13,
   "metadata": {},
   "outputs": [
    {
     "name": "stdout",
     "output_type": "stream",
     "text": [
      "(891, 7)\n",
      "(891,)\n",
      "(418, 7)\n",
      "(418,)\n",
      "[[ 3.          1.         22.         ...  0.          7.25\n",
      "   2.        ]\n",
      " [ 1.          0.         38.         ...  0.         71.2833\n",
      "   0.        ]\n",
      " [ 3.          0.         26.         ...  0.          7.925\n",
      "   2.        ]\n",
      " ...\n",
      " [ 3.          0.         29.69911765 ...  2.         23.45\n",
      "   2.        ]\n",
      " [ 1.          1.         26.         ...  0.         30.\n",
      "   0.        ]\n",
      " [ 3.          1.         32.         ...  0.          7.75\n",
      "   1.        ]]\n"
     ]
    }
   ],
   "source": [
    "label_train=label_train[:,0] # 改變排序方式\n",
    "label_test=label_test[:,0]\n",
    "\n",
    "print(data_train.shape)\n",
    "print(label_train.shape)\n",
    "print(data_test.shape)\n",
    "print(label_test.shape)\n",
    "print(data_train)"
   ]
  },
  {
   "cell_type": "markdown",
   "metadata": {},
   "source": [
    "### 標準化"
   ]
  },
  {
   "cell_type": "code",
   "execution_count": 14,
   "metadata": {},
   "outputs": [
    {
     "name": "stdout",
     "output_type": "stream",
     "text": [
      "[ 0.82737724  0.73769513 -0.5924806   0.43279337 -0.47367361 -0.50244517\n",
      "  0.58595414]\n",
      "[ 0.82737724  0.73769513  0.36944878 -0.4745452  -0.47367361 -0.49078316\n",
      " -0.67817453]\n"
     ]
    }
   ],
   "source": [
    "from sklearn.preprocessing import StandardScaler\n",
    "\n",
    "ss = StandardScaler()\n",
    "ss.fit(data_train) #以 data_train 當作標準化基準\n",
    "\n",
    "data_train=ss.transform(data_train) #對data_train進行標準化\n",
    "data_test=ss.transform(data_test) #對data_train進行標準化\n",
    "\n",
    "print(data_train[0])\n",
    "print(data_test[0])"
   ]
  },
  {
   "cell_type": "markdown",
   "metadata": {},
   "source": [
    "### NN模型"
   ]
  },
  {
   "cell_type": "code",
   "execution_count": 15,
   "metadata": {},
   "outputs": [],
   "source": [
    "import torch\n",
    "import torch.nn.functional as F     # 激勵函數\n",
    "\n",
    "data_train = torch.from_numpy(data_train).type(torch.FloatTensor) \n",
    "label_train = torch.from_numpy(label_train)\n",
    "\n",
    "data_test = torch.from_numpy(data_test).type(torch.FloatTensor) \n",
    "label_test = torch.from_numpy(label_test)"
   ]
  },
  {
   "cell_type": "code",
   "execution_count": 16,
   "metadata": {},
   "outputs": [
    {
     "name": "stdout",
     "output_type": "stream",
     "text": [
      "Net(\n",
      "  (hidden): Linear(in_features=7, out_features=50, bias=True)\n",
      "  (out): Linear(in_features=50, out_features=2, bias=True)\n",
      ")\n"
     ]
    }
   ],
   "source": [
    "class Net(torch.nn.Module):\n",
    "    def __init__(self, n_feature, n_hidden, n_output):\n",
    "        super(Net, self).__init__()\n",
    "        # 定義各層樣式\n",
    "        self.hidden = torch.nn.Linear(n_feature, n_hidden)   # nn.Linear(輸入二維張量大小, 輸出二維張量大小)\n",
    "        self.out = torch.nn.Linear(n_hidden, n_output)       # 上一級的輸出為這級的輸入\n",
    "\n",
    "    def forward(self, x):\n",
    "        # 正向傳播輸入值, 神经網路分析出输出值\n",
    "        x = F.relu(self.hidden(x))      # 激勵函數\n",
    "        x = self.out(x)                 # 输出值, 但是这个不是预测值, 预测值还需要再另外计算\n",
    "        return x\n",
    "                                                 # 類別數 : 2\n",
    "net = Net(n_feature=7, n_hidden=50, n_output=2)  # 輸入特徵 : 2, 神經元個數 : 10, 輸出特徵 : 2\n",
    "\n",
    "print(net)  # net 結構"
   ]
  },
  {
   "cell_type": "code",
   "execution_count": 32,
   "metadata": {},
   "outputs": [],
   "source": [
    "optimizer = torch.optim.SGD(net.parameters(), lr=0.005, momentum = 0.9)\n",
    "# optimizer = torch.optim.Adam(net.parameters(), lr=0.003)\n",
    "loss_func = torch.nn.CrossEntropyLoss()"
   ]
  },
  {
   "cell_type": "code",
   "execution_count": 35,
   "metadata": {},
   "outputs": [
    {
     "name": "stderr",
     "output_type": "stream",
     "text": [
      "c:\\users\\kaineng\\appdata\\local\\programs\\python\\python37\\lib\\site-packages\\ipykernel_launcher.py:17: UserWarning: Implicit dimension choice for softmax has been deprecated. Change the call to include dim=X as an argument.\n"
     ]
    },
    {
     "name": "stdout",
     "output_type": "stream",
     "text": [
      "<class 'numpy.ndarray'>\n",
      "0.8058361391694725\n",
      "tensor(0.4324, grad_fn=<NllLossBackward>)\n"
     ]
    }
   ],
   "source": [
    "from sklearn.metrics import accuracy_score\n",
    "from sklearn.utils import shuffle\n",
    "\n",
    "best_accuracy = 0\n",
    "best_loss = 1\n",
    "\n",
    "for t in range(50):\n",
    "    # data_train, label_train = shuffle(data_train, label_train)\n",
    "    \n",
    "    out = net(data_train)\n",
    "    loss = loss_func(out, label_train)\n",
    "\n",
    "    optimizer.zero_grad()   # 清空上一步的數據\n",
    "    loss.backward()\n",
    "    optimizer.step()\n",
    "\n",
    "    prediction = torch.max(F.softmax(out), 1)[1]    # 通過 softmax 的激勵函數(用於多分類神經網絡輸出)\n",
    "        \n",
    "    pred_Survived = prediction.data.numpy().squeeze()\n",
    "    target_Survived = label_train.data.numpy()\n",
    "    \n",
    "    \n",
    "    #accuracy = sum(pred_Survived == target_Survived)/len(data_train)\n",
    "    accuracy = accuracy_score(pred_Survived, target_Survived)\n",
    "    \n",
    "    if (accuracy > best_accuracy):\n",
    "        best_accuracy = accuracy\n",
    "    if (loss < best_loss):\n",
    "        best_loss = loss\n",
    "        \n",
    "print(type(pred_Survived))     \n",
    "print(best_accuracy)\n",
    "print(best_loss)"
   ]
  },
  {
   "cell_type": "code",
   "execution_count": 31,
   "metadata": {},
   "outputs": [
    {
     "name": "stderr",
     "output_type": "stream",
     "text": [
      "c:\\users\\kaineng\\appdata\\local\\programs\\python\\python37\\lib\\site-packages\\ipykernel_launcher.py:14: UserWarning: Implicit dimension choice for softmax has been deprecated. Change the call to include dim=X as an argument.\n",
      "  \n"
     ]
    },
    {
     "name": "stdout",
     "output_type": "stream",
     "text": [
      "<class 'numpy.ndarray'>\n",
      "0.9712918660287081\n",
      "tensor(0.3152, grad_fn=<NllLossBackward>)\n"
     ]
    }
   ],
   "source": [
    "from sklearn.metrics import accuracy_score\n",
    "\n",
    "best_accuracy = 0\n",
    "best_loss = 1\n",
    "\n",
    "for t in range(50):\n",
    "    out = net(data_test)\n",
    "    loss = loss_func(out, label_test)\n",
    "\n",
    "    optimizer.zero_grad()   # 清空上一步的數據\n",
    "    loss.backward()\n",
    "    optimizer.step()\n",
    "\n",
    "    prediction = torch.max(F.softmax(out), 1)[1]    # 通過 softmax 的激勵函數(用於多分類神經網絡輸出)\n",
    "        \n",
    "    pred_Survived = prediction.data.numpy().squeeze()\n",
    "    target_Survived = label_test.data.numpy()\n",
    "    \n",
    "    \n",
    "    #accuracy = sum(pred_Survived == target_Survived)/len(data_train)\n",
    "    accuracy = accuracy_score(pred_Survived, target_Survived)\n",
    "    \n",
    "    if (accuracy > best_accuracy):\n",
    "        best_accuracy = accuracy\n",
    "    if (loss < best_loss):\n",
    "        best_loss = loss\n",
    "        \n",
    "print(type(pred_Survived))     \n",
    "print(best_accuracy)\n",
    "print(best_loss)"
   ]
  },
  {
   "cell_type": "code",
   "execution_count": null,
   "metadata": {},
   "outputs": [],
   "source": []
  }
 ],
 "metadata": {
  "kernelspec": {
   "display_name": "Python 3",
   "language": "python",
   "name": "python3"
  },
  "language_info": {
   "codemirror_mode": {
    "name": "ipython",
    "version": 3
   },
   "file_extension": ".py",
   "mimetype": "text/x-python",
   "name": "python",
   "nbconvert_exporter": "python",
   "pygments_lexer": "ipython3",
   "version": "3.7.4"
  }
 },
 "nbformat": 4,
 "nbformat_minor": 4
}
